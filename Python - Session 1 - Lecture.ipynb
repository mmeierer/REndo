{
  "nbformat": 4,
  "nbformat_minor": 0,
  "metadata": {
    "colab": {
      "provenance": [],
      "collapsed_sections": [
        "s9BhwE5e-bSm",
        "dhIYxPtY_kE1"
      ],
      "toc_visible": true
    },
    "kernelspec": {
      "name": "python3",
      "display_name": "Python 3"
    }
  },
  "cells": [
    {
      "cell_type": "markdown",
      "metadata": {
        "id": "3arMV6uM79oD"
      },
      "source": [
        "#Python - Non-technical introduction\n",
        "\n",
        "##Session: \"Life is easy when using the right tools: Why and how to work with Python?\"\n",
        "\n",
        "This file accompanies the lectures and provides the code for the corresponding slides.\n",
        "\n",
        "*Note:* If you want to make changes to this document, you need to save your own copy using the \"Save copy in Drive\" command in the \"File\" menu."
      ]
    },
    {
      "cell_type": "markdown",
      "metadata": {
        "id": "jkbFJetCkYhZ"
      },
      "source": [
        "###01 - Getting Started with Python"
      ]
    },
    {
      "cell_type": "markdown",
      "metadata": {
        "id": "Y0z8RKY1kgRH"
      },
      "source": [
        "####**Slide:** Why is Python so polular? Python packages extend the functionality of Python"
      ]
    },
    {
      "cell_type": "markdown",
      "metadata": {
        "id": "JPzfjCVrk2LK"
      },
      "source": [
        "Link to Python Package Index (PyPI): https://pypi.python.org/pypi\n"
      ]
    },
    {
      "cell_type": "markdown",
      "metadata": {
        "id": "uhCjL2KVlJKh"
      },
      "source": [
        "####**Slide:** Why is Python so popular?\n",
        "On the downside, not all packages are well documented"
      ]
    },
    {
      "cell_type": "markdown",
      "metadata": {
        "id": "Ly4xgp3blQLA"
      },
      "source": [
        "Link to the Python standard documentation: https://dos.python.org/3/library/"
      ]
    },
    {
      "cell_type": "markdown",
      "metadata": {
        "id": "facXK4Tul4Vi"
      },
      "source": [
        "###02 - Understanding and using code notebooks"
      ]
    },
    {
      "cell_type": "markdown",
      "metadata": {
        "id": "T2GNbQVy8xhq"
      },
      "source": [
        "####**Slide:** Elements of a Jupyter Notebook (which you can e.g. use through the service \"Google Colab\")"
      ]
    },
    {
      "cell_type": "code",
      "metadata": {
        "id": "7WxjwfPblNMI",
        "colab": {
          "base_uri": "https://localhost:8080/",
          "height": 34
        },
        "outputId": "220304bd-6de5-4693-e420-7f69a0aa5929"
      },
      "source": [
        "1+1"
      ],
      "execution_count": null,
      "outputs": [
        {
          "output_type": "execute_result",
          "data": {
            "text/plain": [
              "2"
            ]
          },
          "metadata": {
            "tags": []
          },
          "execution_count": 1
        }
      ]
    },
    {
      "cell_type": "markdown",
      "metadata": {
        "id": "X7-NN7LJcfAf"
      },
      "source": [
        "###03 - Filling your notebook with code and text"
      ]
    },
    {
      "cell_type": "markdown",
      "metadata": {
        "id": "LssMpZZfcel8"
      },
      "source": [
        "There is no code for this unit."
      ]
    },
    {
      "cell_type": "markdown",
      "metadata": {
        "id": "2MHqzUPVcmhP"
      },
      "source": [
        "###04 - Advanced features of code notebooks"
      ]
    },
    {
      "cell_type": "markdown",
      "metadata": {
        "id": "LboyP6LxcybE"
      },
      "source": [
        "There is no code for this unit."
      ]
    },
    {
      "cell_type": "markdown",
      "metadata": {
        "id": "9znqham2c0Iw"
      },
      "source": [
        "###05 - Working with a local code editor"
      ]
    },
    {
      "cell_type": "markdown",
      "metadata": {
        "id": "_uTaQ8z1c6zL"
      },
      "source": [
        "There is no code for this unit."
      ]
    },
    {
      "cell_type": "markdown",
      "metadata": {
        "id": "cmMs17jMJc0s"
      },
      "source": [
        "###06 - Installing packages"
      ]
    },
    {
      "cell_type": "markdown",
      "metadata": {
        "id": "ABBIAIZ1dQdK"
      },
      "source": [
        "There is no code for this unit."
      ]
    },
    {
      "cell_type": "markdown",
      "metadata": {
        "id": "s9BhwE5e-bSm"
      },
      "source": [
        "####**Slide:** How to load/activate a package?"
      ]
    },
    {
      "cell_type": "code",
      "metadata": {
        "id": "mhY7qb3h-qNq"
      },
      "source": [
        "import numpy as np\n",
        "import pandas"
      ],
      "execution_count": null,
      "outputs": []
    },
    {
      "cell_type": "markdown",
      "metadata": {
        "id": "dhIYxPtY_kE1"
      },
      "source": [
        "####**Slide:** Start working with a Python package by looking at its help files"
      ]
    },
    {
      "cell_type": "code",
      "metadata": {
        "id": "crfOOT0H_nCe",
        "colab": {
          "base_uri": "https://localhost:8080/",
          "height": 1000
        },
        "outputId": "c01d357f-d6a2-4bcf-efb7-988e6b5817fc"
      },
      "source": [
        "help(np.sum)"
      ],
      "execution_count": null,
      "outputs": [
        {
          "output_type": "stream",
          "text": [
            "Help on function sum in module numpy:\n",
            "\n",
            "sum(a, axis=None, dtype=None, out=None, keepdims=<no value>, initial=<no value>, where=<no value>)\n",
            "    Sum of array elements over a given axis.\n",
            "    \n",
            "    Parameters\n",
            "    ----------\n",
            "    a : array_like\n",
            "        Elements to sum.\n",
            "    axis : None or int or tuple of ints, optional\n",
            "        Axis or axes along which a sum is performed.  The default,\n",
            "        axis=None, will sum all of the elements of the input array.  If\n",
            "        axis is negative it counts from the last to the first axis.\n",
            "    \n",
            "        .. versionadded:: 1.7.0\n",
            "    \n",
            "        If axis is a tuple of ints, a sum is performed on all of the axes\n",
            "        specified in the tuple instead of a single axis or all the axes as\n",
            "        before.\n",
            "    dtype : dtype, optional\n",
            "        The type of the returned array and of the accumulator in which the\n",
            "        elements are summed.  The dtype of `a` is used by default unless `a`\n",
            "        has an integer dtype of less precision than the default platform\n",
            "        integer.  In that case, if `a` is signed then the platform integer\n",
            "        is used while if `a` is unsigned then an unsigned integer of the\n",
            "        same precision as the platform integer is used.\n",
            "    out : ndarray, optional\n",
            "        Alternative output array in which to place the result. It must have\n",
            "        the same shape as the expected output, but the type of the output\n",
            "        values will be cast if necessary.\n",
            "    keepdims : bool, optional\n",
            "        If this is set to True, the axes which are reduced are left\n",
            "        in the result as dimensions with size one. With this option,\n",
            "        the result will broadcast correctly against the input array.\n",
            "    \n",
            "        If the default value is passed, then `keepdims` will not be\n",
            "        passed through to the `sum` method of sub-classes of\n",
            "        `ndarray`, however any non-default value will be.  If the\n",
            "        sub-class' method does not implement `keepdims` any\n",
            "        exceptions will be raised.\n",
            "    initial : scalar, optional\n",
            "        Starting value for the sum. See `~numpy.ufunc.reduce` for details.\n",
            "    \n",
            "        .. versionadded:: 1.15.0\n",
            "    \n",
            "    where : array_like of bool, optional\n",
            "        Elements to include in the sum. See `~numpy.ufunc.reduce` for details.\n",
            "    \n",
            "        .. versionadded:: 1.17.0\n",
            "    \n",
            "    Returns\n",
            "    -------\n",
            "    sum_along_axis : ndarray\n",
            "        An array with the same shape as `a`, with the specified\n",
            "        axis removed.   If `a` is a 0-d array, or if `axis` is None, a scalar\n",
            "        is returned.  If an output array is specified, a reference to\n",
            "        `out` is returned.\n",
            "    \n",
            "    See Also\n",
            "    --------\n",
            "    ndarray.sum : Equivalent method.\n",
            "    \n",
            "    add.reduce : Equivalent functionality of `add`.\n",
            "    \n",
            "    cumsum : Cumulative sum of array elements.\n",
            "    \n",
            "    trapz : Integration of array values using the composite trapezoidal rule.\n",
            "    \n",
            "    mean, average\n",
            "    \n",
            "    Notes\n",
            "    -----\n",
            "    Arithmetic is modular when using integer types, and no error is\n",
            "    raised on overflow.\n",
            "    \n",
            "    The sum of an empty array is the neutral element 0:\n",
            "    \n",
            "    >>> np.sum([])\n",
            "    0.0\n",
            "    \n",
            "    For floating point numbers the numerical precision of sum (and\n",
            "    ``np.add.reduce``) is in general limited by directly adding each number\n",
            "    individually to the result causing rounding errors in every step.\n",
            "    However, often numpy will use a  numerically better approach (partial\n",
            "    pairwise summation) leading to improved precision in many use-cases.\n",
            "    This improved precision is always provided when no ``axis`` is given.\n",
            "    When ``axis`` is given, it will depend on which axis is summed.\n",
            "    Technically, to provide the best speed possible, the improved precision\n",
            "    is only used when the summation is along the fast axis in memory.\n",
            "    Note that the exact precision may vary depending on other parameters.\n",
            "    In contrast to NumPy, Python's ``math.fsum`` function uses a slower but\n",
            "    more precise approach to summation.\n",
            "    Especially when summing a large number of lower precision floating point\n",
            "    numbers, such as ``float32``, numerical errors can become significant.\n",
            "    In such cases it can be advisable to use `dtype=\"float64\"` to use a higher\n",
            "    precision for the output.\n",
            "    \n",
            "    Examples\n",
            "    --------\n",
            "    >>> np.sum([0.5, 1.5])\n",
            "    2.0\n",
            "    >>> np.sum([0.5, 0.7, 0.2, 1.5], dtype=np.int32)\n",
            "    1\n",
            "    >>> np.sum([[0, 1], [0, 5]])\n",
            "    6\n",
            "    >>> np.sum([[0, 1], [0, 5]], axis=0)\n",
            "    array([0, 6])\n",
            "    >>> np.sum([[0, 1], [0, 5]], axis=1)\n",
            "    array([1, 5])\n",
            "    >>> np.sum([[0, 1], [np.nan, 5]], where=[False, True], axis=1)\n",
            "    array([1., 5.])\n",
            "    \n",
            "    If the accumulator is too small, overflow occurs:\n",
            "    \n",
            "    >>> np.ones(128, dtype=np.int8).sum(dtype=np.int8)\n",
            "    -128\n",
            "    \n",
            "    You can also start the sum with a value other than zero:\n",
            "    \n",
            "    >>> np.sum([10], initial=5)\n",
            "    15\n",
            "\n"
          ],
          "name": "stdout"
        }
      ]
    },
    {
      "cell_type": "markdown",
      "metadata": {
        "id": "9S-42x1ZJk20"
      },
      "source": [
        "###08 - Reading data"
      ]
    },
    {
      "cell_type": "markdown",
      "metadata": {
        "id": "AwWp8U_k_2uu"
      },
      "source": [
        "#### **Slide:** How to load data into Python from a CSV file"
      ]
    },
    {
      "cell_type": "code",
      "metadata": {
        "id": "oKX6Jj44AfyV",
        "colab": {
          "base_uri": "https://localhost:8080/",
          "height": 255
        },
        "outputId": "81dcfa38-9b7b-4e89-a164-7b996951279f"
      },
      "source": [
        "#import the pandas package\n",
        "import pandas as pd\n",
        "#Read the csv file and store it in the variable \"myData\". Note: this file is hostes in a GitHub repository.\n",
        "myData=pd.read_csv(filepath_or_buffer=\"https://raw.githubusercontent.com/bachmannpatrick/Python-Class/master/data/transactions.csv\", sep=\",\")\n",
        "print(myData)"
      ],
      "execution_count": null,
      "outputs": [
        {
          "output_type": "stream",
          "text": [
            "        Customer   TransDate  Quantity  PurchAmount    Cost    TransID\n",
            "0         149332  15.11.2005         1       199.95  107.00  127998739\n",
            "1         172951  29.08.2008         1       199.95  108.00  128888288\n",
            "2         120621  19.10.2007         1        99.95   49.00  125375247\n",
            "3         149236  14.11.2005         1        39.95   18.95  127996226\n",
            "4         149236  12.06.2007         1        79.95   35.00  128670302\n",
            "...          ...         ...       ...          ...     ...        ...\n",
            "223186    199997  17.09.2012         1        29.95   13.80  132481149\n",
            "223187    199997  17.09.2012         1        29.95   13.80  132481149\n",
            "223188    199998  17.09.2012         1        29.95   13.80  132481154\n",
            "223189    199999  17.09.2012         1       179.95  109.99  132481165\n",
            "223190    199542  17.09.2012         1        39.95   10.50  131973368\n",
            "\n",
            "[223191 rows x 6 columns]\n"
          ],
          "name": "stdout"
        }
      ]
    }
  ]
}