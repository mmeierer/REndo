{
  "nbformat": 4,
  "nbformat_minor": 0,
  "metadata": {
    "colab": {
      "name": "Dash app in Google Colab.ipynb",
      "version": "0.3.2",
      "provenance": [],
      "collapsed_sections": []
    },
    "kernelspec": {
      "name": "python3",
      "display_name": "Python 3"
    }
  },
  "cells": [
    {
      "metadata": {
        "id": "be44BTrfIHKE",
        "colab_type": "text"
      },
      "cell_type": "markdown",
      "source": [
        "# How to run a Dash app in Google Colab"
      ]
    },
    {
      "metadata": {
        "id": "SXOuDxEuF_kT",
        "colab_type": "text"
      },
      "cell_type": "markdown",
      "source": [
        "## Setup webserver to access local **server** running on Google Colab machine\n"
      ]
    },
    {
      "metadata": {
        "id": "Jlkyxaz3EirH",
        "colab_type": "code",
        "colab": {
          "base_uri": "https://localhost:8080/",
          "height": 255
        },
        "outputId": "41462652-dc14-460e-839d-a712bbf7f23c"
      },
      "cell_type": "code",
      "source": [
        "# Similiar to setting up Tensorboard (https://www.dlology.com/blog/quick-guide-to-run-tensorboard-in-google-colab/)\n",
        "# Install ngrok\n",
        "!wget https://bin.equinox.io/c/4VmDzA7iaHb/ngrok-stable-linux-amd64.zip\n",
        "!unzip ngrok-stable-linux-amd64.zip"
      ],
      "execution_count": 1,
      "outputs": [
        {
          "output_type": "stream",
          "text": [
            "--2018-12-04 02:49:24--  https://bin.equinox.io/c/4VmDzA7iaHb/ngrok-stable-linux-amd64.zip\n",
            "Resolving bin.equinox.io (bin.equinox.io)... 52.22.145.207, 52.22.34.127, 52.3.53.115, ...\n",
            "Connecting to bin.equinox.io (bin.equinox.io)|52.22.145.207|:443... connected.\n",
            "HTTP request sent, awaiting response... 200 OK\n",
            "Length: 5363700 (5.1M) [application/octet-stream]\n",
            "Saving to: ‘ngrok-stable-linux-amd64.zip.1’\n",
            "\n",
            "ngrok-stable-linux- 100%[===================>]   5.11M  19.5MB/s    in 0.3s    \n",
            "\n",
            "2018-12-04 02:49:25 (19.5 MB/s) - ‘ngrok-stable-linux-amd64.zip.1’ saved [5363700/5363700]\n",
            "\n",
            "Archive:  ngrok-stable-linux-amd64.zip\n",
            "replace ngrok? [y]es, [n]o, [A]ll, [N]one, [r]ename: y\n",
            "  inflating: ngrok                   \n"
          ],
          "name": "stdout"
        }
      ]
    },
    {
      "metadata": {
        "id": "Qrf4tP4-Er1X",
        "colab_type": "code",
        "colab": {}
      },
      "cell_type": "code",
      "source": [
        "# # Run ngrok to tunnel TensorBoard port 6006 to the outside world. This command runs in the background.\n",
        "get_ipython().system_raw('./ngrok http 8050 &')\n"
      ],
      "execution_count": 0,
      "outputs": []
    },
    {
      "metadata": {
        "id": "uu1SPD2eC6lI",
        "colab_type": "code",
        "colab": {
          "base_uri": "https://localhost:8080/",
          "height": 34
        },
        "outputId": "382b4b0c-6043-4dd6-f4a9-8e045a85367e"
      },
      "cell_type": "code",
      "source": [
        "# One last step, we get the public URL where we can access the Dash app.\n",
        "! curl -s http://localhost:4040/api/tunnels | python3 -c \\\n",
        "    \"import sys, json; print(json.load(sys.stdin)['tunnels'][0]['public_url'])\""
      ],
      "execution_count": 3,
      "outputs": [
        {
          "output_type": "stream",
          "text": [
            "http://3388eb96.ngrok.io\n"
          ],
          "name": "stdout"
        }
      ]
    },
    {
      "metadata": {
        "id": "bNrNIHTeGNK1",
        "colab_type": "text"
      },
      "cell_type": "markdown",
      "source": [
        "## Install Dash "
      ]
    },
    {
      "metadata": {
        "id": "cfrXACjFBUUS",
        "colab_type": "code",
        "colab": {
          "base_uri": "https://localhost:8080/",
          "height": 1224
        },
        "outputId": "4af882ca-b2bf-46db-f065-088f90beb482"
      },
      "cell_type": "code",
      "source": [
        "!pip install dash==0.31.1  # The core dash backend\n",
        "!pip install dash-html-components==0.13.2  # HTML components\n",
        "!pip install dash-core-components==0.39.0  # Supercharged components\n",
        "!pip install dash-table==3.1.7  # Interactive DataTable component (new!)"
      ],
      "execution_count": 4,
      "outputs": [
        {
          "output_type": "stream",
          "text": [
            "Requirement already satisfied: dash==0.31.1 in /usr/local/lib/python3.6/dist-packages (0.31.1)\n",
            "Requirement already satisfied: flask-compress in /usr/local/lib/python3.6/dist-packages (from dash==0.31.1) (1.4.0)\n",
            "Requirement already satisfied: dash-renderer in /usr/local/lib/python3.6/dist-packages (from dash==0.31.1) (0.15.1)\n",
            "Requirement already satisfied: Flask>=0.12 in /usr/local/lib/python3.6/dist-packages (from dash==0.31.1) (1.0.2)\n",
            "Requirement already satisfied: plotly in /usr/local/lib/python3.6/dist-packages (from dash==0.31.1) (1.12.12)\n",
            "Requirement already satisfied: itsdangerous>=0.24 in /usr/local/lib/python3.6/dist-packages (from Flask>=0.12->dash==0.31.1) (1.1.0)\n",
            "Requirement already satisfied: Jinja2>=2.10 in /usr/local/lib/python3.6/dist-packages (from Flask>=0.12->dash==0.31.1) (2.10)\n",
            "Requirement already satisfied: Werkzeug>=0.14 in /usr/local/lib/python3.6/dist-packages (from Flask>=0.12->dash==0.31.1) (0.14.1)\n",
            "Requirement already satisfied: click>=5.1 in /usr/local/lib/python3.6/dist-packages (from Flask>=0.12->dash==0.31.1) (7.0)\n",
            "Requirement already satisfied: requests in /usr/local/lib/python3.6/dist-packages (from plotly->dash==0.31.1) (2.18.4)\n",
            "Requirement already satisfied: six in /usr/local/lib/python3.6/dist-packages (from plotly->dash==0.31.1) (1.11.0)\n",
            "Requirement already satisfied: pytz in /usr/local/lib/python3.6/dist-packages (from plotly->dash==0.31.1) (2018.7)\n",
            "Requirement already satisfied: MarkupSafe>=0.23 in /usr/local/lib/python3.6/dist-packages (from Jinja2>=2.10->Flask>=0.12->dash==0.31.1) (1.1.0)\n",
            "Requirement already satisfied: urllib3<1.23,>=1.21.1 in /usr/local/lib/python3.6/dist-packages (from requests->plotly->dash==0.31.1) (1.22)\n",
            "Requirement already satisfied: certifi>=2017.4.17 in /usr/local/lib/python3.6/dist-packages (from requests->plotly->dash==0.31.1) (2018.10.15)\n",
            "Requirement already satisfied: idna<2.7,>=2.5 in /usr/local/lib/python3.6/dist-packages (from requests->plotly->dash==0.31.1) (2.6)\n",
            "Requirement already satisfied: chardet<3.1.0,>=3.0.2 in /usr/local/lib/python3.6/dist-packages (from requests->plotly->dash==0.31.1) (3.0.4)\n",
            "Requirement already satisfied: dash-html-components==0.13.2 in /usr/local/lib/python3.6/dist-packages (0.13.2)\n",
            "Requirement already satisfied: dash in /usr/local/lib/python3.6/dist-packages (from dash-html-components==0.13.2) (0.31.1)\n",
            "Requirement already satisfied: dash-renderer in /usr/local/lib/python3.6/dist-packages (from dash->dash-html-components==0.13.2) (0.15.1)\n",
            "Requirement already satisfied: flask-compress in /usr/local/lib/python3.6/dist-packages (from dash->dash-html-components==0.13.2) (1.4.0)\n",
            "Requirement already satisfied: Flask>=0.12 in /usr/local/lib/python3.6/dist-packages (from dash->dash-html-components==0.13.2) (1.0.2)\n",
            "Requirement already satisfied: plotly in /usr/local/lib/python3.6/dist-packages (from dash->dash-html-components==0.13.2) (1.12.12)\n",
            "Requirement already satisfied: click>=5.1 in /usr/local/lib/python3.6/dist-packages (from Flask>=0.12->dash->dash-html-components==0.13.2) (7.0)\n",
            "Requirement already satisfied: Werkzeug>=0.14 in /usr/local/lib/python3.6/dist-packages (from Flask>=0.12->dash->dash-html-components==0.13.2) (0.14.1)\n",
            "Requirement already satisfied: Jinja2>=2.10 in /usr/local/lib/python3.6/dist-packages (from Flask>=0.12->dash->dash-html-components==0.13.2) (2.10)\n",
            "Requirement already satisfied: itsdangerous>=0.24 in /usr/local/lib/python3.6/dist-packages (from Flask>=0.12->dash->dash-html-components==0.13.2) (1.1.0)\n",
            "Requirement already satisfied: requests in /usr/local/lib/python3.6/dist-packages (from plotly->dash->dash-html-components==0.13.2) (2.18.4)\n",
            "Requirement already satisfied: six in /usr/local/lib/python3.6/dist-packages (from plotly->dash->dash-html-components==0.13.2) (1.11.0)\n",
            "Requirement already satisfied: pytz in /usr/local/lib/python3.6/dist-packages (from plotly->dash->dash-html-components==0.13.2) (2018.7)\n",
            "Requirement already satisfied: MarkupSafe>=0.23 in /usr/local/lib/python3.6/dist-packages (from Jinja2>=2.10->Flask>=0.12->dash->dash-html-components==0.13.2) (1.1.0)\n",
            "Requirement already satisfied: urllib3<1.23,>=1.21.1 in /usr/local/lib/python3.6/dist-packages (from requests->plotly->dash->dash-html-components==0.13.2) (1.22)\n",
            "Requirement already satisfied: idna<2.7,>=2.5 in /usr/local/lib/python3.6/dist-packages (from requests->plotly->dash->dash-html-components==0.13.2) (2.6)\n",
            "Requirement already satisfied: chardet<3.1.0,>=3.0.2 in /usr/local/lib/python3.6/dist-packages (from requests->plotly->dash->dash-html-components==0.13.2) (3.0.4)\n",
            "Requirement already satisfied: certifi>=2017.4.17 in /usr/local/lib/python3.6/dist-packages (from requests->plotly->dash->dash-html-components==0.13.2) (2018.10.15)\n",
            "Requirement already satisfied: dash-core-components==0.39.0 in /usr/local/lib/python3.6/dist-packages (0.39.0)\n",
            "Requirement already satisfied: dash in /usr/local/lib/python3.6/dist-packages (from dash-core-components==0.39.0) (0.31.1)\n",
            "Requirement already satisfied: Flask>=0.12 in /usr/local/lib/python3.6/dist-packages (from dash->dash-core-components==0.39.0) (1.0.2)\n",
            "Requirement already satisfied: dash-renderer in /usr/local/lib/python3.6/dist-packages (from dash->dash-core-components==0.39.0) (0.15.1)\n",
            "Requirement already satisfied: flask-compress in /usr/local/lib/python3.6/dist-packages (from dash->dash-core-components==0.39.0) (1.4.0)\n",
            "Requirement already satisfied: plotly in /usr/local/lib/python3.6/dist-packages (from dash->dash-core-components==0.39.0) (1.12.12)\n",
            "Requirement already satisfied: Jinja2>=2.10 in /usr/local/lib/python3.6/dist-packages (from Flask>=0.12->dash->dash-core-components==0.39.0) (2.10)\n",
            "Requirement already satisfied: click>=5.1 in /usr/local/lib/python3.6/dist-packages (from Flask>=0.12->dash->dash-core-components==0.39.0) (7.0)\n",
            "Requirement already satisfied: itsdangerous>=0.24 in /usr/local/lib/python3.6/dist-packages (from Flask>=0.12->dash->dash-core-components==0.39.0) (1.1.0)\n",
            "Requirement already satisfied: Werkzeug>=0.14 in /usr/local/lib/python3.6/dist-packages (from Flask>=0.12->dash->dash-core-components==0.39.0) (0.14.1)\n",
            "Requirement already satisfied: requests in /usr/local/lib/python3.6/dist-packages (from plotly->dash->dash-core-components==0.39.0) (2.18.4)\n",
            "Requirement already satisfied: six in /usr/local/lib/python3.6/dist-packages (from plotly->dash->dash-core-components==0.39.0) (1.11.0)\n",
            "Requirement already satisfied: pytz in /usr/local/lib/python3.6/dist-packages (from plotly->dash->dash-core-components==0.39.0) (2018.7)\n",
            "Requirement already satisfied: MarkupSafe>=0.23 in /usr/local/lib/python3.6/dist-packages (from Jinja2>=2.10->Flask>=0.12->dash->dash-core-components==0.39.0) (1.1.0)\n",
            "Requirement already satisfied: urllib3<1.23,>=1.21.1 in /usr/local/lib/python3.6/dist-packages (from requests->plotly->dash->dash-core-components==0.39.0) (1.22)\n",
            "Requirement already satisfied: certifi>=2017.4.17 in /usr/local/lib/python3.6/dist-packages (from requests->plotly->dash->dash-core-components==0.39.0) (2018.10.15)\n",
            "Requirement already satisfied: idna<2.7,>=2.5 in /usr/local/lib/python3.6/dist-packages (from requests->plotly->dash->dash-core-components==0.39.0) (2.6)\n",
            "Requirement already satisfied: chardet<3.1.0,>=3.0.2 in /usr/local/lib/python3.6/dist-packages (from requests->plotly->dash->dash-core-components==0.39.0) (3.0.4)\n",
            "Requirement already satisfied: dash-table==3.1.7 in /usr/local/lib/python3.6/dist-packages (3.1.7)\n",
            "Requirement already satisfied: dash in /usr/local/lib/python3.6/dist-packages (from dash-table==3.1.7) (0.31.1)\n",
            "Requirement already satisfied: Flask>=0.12 in /usr/local/lib/python3.6/dist-packages (from dash->dash-table==3.1.7) (1.0.2)\n",
            "Requirement already satisfied: flask-compress in /usr/local/lib/python3.6/dist-packages (from dash->dash-table==3.1.7) (1.4.0)\n",
            "Requirement already satisfied: dash-renderer in /usr/local/lib/python3.6/dist-packages (from dash->dash-table==3.1.7) (0.15.1)\n",
            "Requirement already satisfied: plotly in /usr/local/lib/python3.6/dist-packages (from dash->dash-table==3.1.7) (1.12.12)\n",
            "Requirement already satisfied: itsdangerous>=0.24 in /usr/local/lib/python3.6/dist-packages (from Flask>=0.12->dash->dash-table==3.1.7) (1.1.0)\n",
            "Requirement already satisfied: click>=5.1 in /usr/local/lib/python3.6/dist-packages (from Flask>=0.12->dash->dash-table==3.1.7) (7.0)\n",
            "Requirement already satisfied: Jinja2>=2.10 in /usr/local/lib/python3.6/dist-packages (from Flask>=0.12->dash->dash-table==3.1.7) (2.10)\n",
            "Requirement already satisfied: Werkzeug>=0.14 in /usr/local/lib/python3.6/dist-packages (from Flask>=0.12->dash->dash-table==3.1.7) (0.14.1)\n",
            "Requirement already satisfied: requests in /usr/local/lib/python3.6/dist-packages (from plotly->dash->dash-table==3.1.7) (2.18.4)\n",
            "Requirement already satisfied: six in /usr/local/lib/python3.6/dist-packages (from plotly->dash->dash-table==3.1.7) (1.11.0)\n",
            "Requirement already satisfied: pytz in /usr/local/lib/python3.6/dist-packages (from plotly->dash->dash-table==3.1.7) (2018.7)\n",
            "Requirement already satisfied: MarkupSafe>=0.23 in /usr/local/lib/python3.6/dist-packages (from Jinja2>=2.10->Flask>=0.12->dash->dash-table==3.1.7) (1.1.0)\n",
            "Requirement already satisfied: chardet<3.1.0,>=3.0.2 in /usr/local/lib/python3.6/dist-packages (from requests->plotly->dash->dash-table==3.1.7) (3.0.4)\n",
            "Requirement already satisfied: idna<2.7,>=2.5 in /usr/local/lib/python3.6/dist-packages (from requests->plotly->dash->dash-table==3.1.7) (2.6)\n",
            "Requirement already satisfied: certifi>=2017.4.17 in /usr/local/lib/python3.6/dist-packages (from requests->plotly->dash->dash-table==3.1.7) (2018.10.15)\n",
            "Requirement already satisfied: urllib3<1.23,>=1.21.1 in /usr/local/lib/python3.6/dist-packages (from requests->plotly->dash->dash-table==3.1.7) (1.22)\n"
          ],
          "name": "stdout"
        }
      ]
    },
    {
      "metadata": {
        "id": "QwIlkrGcGVom",
        "colab_type": "text"
      },
      "cell_type": "markdown",
      "source": [
        "## Write file with Dash app to disk of Google Colab machine"
      ]
    },
    {
      "metadata": {
        "id": "QbWejUbzAEHB",
        "colab_type": "code",
        "colab": {
          "base_uri": "https://localhost:8080/",
          "height": 34
        },
        "outputId": "5347abe2-17bc-4b64-f649-69ce60f48b6d"
      },
      "cell_type": "code",
      "source": [
        "# Dash app 1\n",
        "\n",
        "%%writefile my_app1.py\n",
        "\n",
        "# -*- coding: utf-8 -*-\n",
        "import dash\n",
        "import dash_core_components as dcc\n",
        "import dash_html_components as html\n",
        "\n",
        "external_stylesheets = ['https://codepen.io/chriddyp/pen/bWLwgP.css']\n",
        "\n",
        "app = dash.Dash(__name__, external_stylesheets=external_stylesheets)\n",
        "\n",
        "app.layout = html.Div(children=[\n",
        "    html.H1(children='Hello Dash'),\n",
        "\n",
        "    html.Div(children='''\n",
        "        Dash: A web application framework for Python.\n",
        "    '''),\n",
        "\n",
        "    dcc.Graph(\n",
        "        id='example-graph',\n",
        "        figure={\n",
        "            'data': [\n",
        "                {'x': [1, 2, 3], 'y': [4, 1, 2], 'type': 'bar', 'name': 'SF'},\n",
        "                {'x': [1, 2, 3], 'y': [2, 4, 5], 'type': 'bar', 'name': u'Montréal'},\n",
        "            ],\n",
        "            'layout': {\n",
        "                'title': 'Dash Data Visualization'\n",
        "            }\n",
        "        }\n",
        "    )\n",
        "])\n",
        "\n",
        "if __name__ == '__main__':\n",
        "    app.run_server(debug=True)"
      ],
      "execution_count": 5,
      "outputs": [
        {
          "output_type": "stream",
          "text": [
            "Overwriting my_app.py\n"
          ],
          "name": "stdout"
        }
      ]
    },
    {
      "metadata": {
        "id": "UIpIJEcAJD8e",
        "colab_type": "code",
        "colab": {
          "base_uri": "https://localhost:8080/",
          "height": 34
        },
        "outputId": "dd22bd18-bebf-4adb-d06c-cb44830e6ff3"
      },
      "cell_type": "code",
      "source": [
        "# Dash app 2\n",
        "\n",
        "%%writefile my_app2.py\n",
        "\n",
        "# -*- coding: utf-8 -*-\n",
        "\n",
        "import dash\n",
        "import dash_core_components as dcc\n",
        "import dash_html_components as html\n",
        "import pandas as pd\n",
        "import plotly.graph_objs as go\n",
        "\n",
        "external_stylesheets = ['https://codepen.io/chriddyp/pen/bWLwgP.css']\n",
        "\n",
        "app = dash.Dash(__name__, external_stylesheets=external_stylesheets)\n",
        "\n",
        "df = pd.read_csv(\n",
        "    'https://gist.githubusercontent.com/chriddyp/' +\n",
        "    '5d1ea79569ed194d432e56108a04d188/raw/' +\n",
        "    'a9f9e8076b837d541398e999dcbac2b2826a81f8/'+\n",
        "    'gdp-life-exp-2007.csv')\n",
        "\n",
        "\n",
        "app.layout = html.Div([\n",
        "    dcc.Graph(\n",
        "        id='life-exp-vs-gdp',\n",
        "        figure={\n",
        "            'data': [\n",
        "                go.Scatter(\n",
        "                    x=df[df['continent'] == i]['gdp per capita'],\n",
        "                    y=df[df['continent'] == i]['life expectancy'],\n",
        "                    text=df[df['continent'] == i]['country'],\n",
        "                    mode='markers',\n",
        "                    opacity=0.7,\n",
        "                    marker={\n",
        "                        'size': 15,\n",
        "                        'line': {'width': 0.5, 'color': 'white'}\n",
        "                    },\n",
        "                    name=i\n",
        "                ) for i in df.continent.unique()\n",
        "            ],\n",
        "            'layout': go.Layout(\n",
        "                xaxis={'type': 'log', 'title': 'GDP Per Capita'},\n",
        "                yaxis={'title': 'Life Expectancy'},\n",
        "                margin={'l': 40, 'b': 40, 't': 10, 'r': 10},\n",
        "                legend={'x': 0, 'y': 1},\n",
        "                hovermode='closest'\n",
        "            )\n",
        "        }\n",
        "    )\n",
        "])\n",
        "\n",
        "if __name__ == '__main__':\n",
        "    app.run_server(debug=True)"
      ],
      "execution_count": 7,
      "outputs": [
        {
          "output_type": "stream",
          "text": [
            "Writing my_app2.py\n"
          ],
          "name": "stdout"
        }
      ]
    },
    {
      "metadata": {
        "id": "hoZmisLIGkmT",
        "colab_type": "text"
      },
      "cell_type": "markdown",
      "source": [
        "## Run Dash app"
      ]
    },
    {
      "metadata": {
        "id": "i-g2edvuJgY-",
        "colab_type": "code",
        "colab": {}
      },
      "cell_type": "code",
      "source": [
        "!python my_app1.py"
      ],
      "execution_count": 0,
      "outputs": []
    },
    {
      "metadata": {
        "id": "lcXXBhD8B3z8",
        "colab_type": "code",
        "colab": {
          "base_uri": "https://localhost:8080/",
          "height": 170
        },
        "outputId": "04b21c31-ffc5-4f25-8dbf-d02df43f5add"
      },
      "cell_type": "code",
      "source": [
        "!python my_app2.py\n"
      ],
      "execution_count": 8,
      "outputs": [
        {
          "output_type": "stream",
          "text": [
            "Running on http://127.0.0.1:8050/\n",
            "Debugger PIN: 423-504-417\n",
            " * Serving Flask app \"my_app2\" (lazy loading)\n",
            " * Environment: production\n",
            "\u001b[31m   WARNING: Do not use the development server in a production environment.\u001b[0m\n",
            "\u001b[2m   Use a production WSGI server instead.\u001b[0m\n",
            " * Debug mode: on\n",
            "Running on http://127.0.0.1:8050/\n",
            "Debugger PIN: 166-362-086\n"
          ],
          "name": "stdout"
        }
      ]
    }
  ]
}